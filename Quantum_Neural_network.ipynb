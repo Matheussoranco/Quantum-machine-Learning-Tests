{
  "nbformat": 4,
  "nbformat_minor": 0,
  "metadata": {
    "colab": {
      "provenance": []
    },
    "kernelspec": {
      "name": "python3",
      "display_name": "Python 3"
    },
    "language_info": {
      "name": "python"
    }
  },
  "cells": [
    {
      "cell_type": "code",
      "execution_count": null,
      "metadata": {
        "id": "soc1129ausK7"
      },
      "outputs": [],
      "source": [
        "import numpy as np\n",
        "import matplotlib.pyplot as plt\n",
        "from qiskit import QuantumCircuit, Aer, execute\n",
        "from qiskit.circuit import Parameter"
      ]
    },
    {
      "cell_type": "code",
      "source": [
        "def create_quantum_layer(num_qubits):\n",
        "    qc = QuantumCircuit(num_qubits)\n",
        "    weights = [Parameter(f'w{i}') for i in range(num_qubits)]\n",
        "\n",
        "    qc.h(range(num_qubits))\n",
        "\n",
        "    for i, weight in enumerate(weights):\n",
        "        qc.ry(weight, i)\n",
        "\n",
        "    for i in range(num_qubits - 1):\n",
        "        qc.cz(i, i + 1)\n",
        "\n",
        "    return qc, weights"
      ],
      "metadata": {
        "id": "zpv-_aTDu9yg"
      },
      "execution_count": null,
      "outputs": []
    },
    {
      "cell_type": "code",
      "source": [
        "def create_quantum_neural_network(num_neurons, num_layers):\n",
        "    full_circuit = QuantumCircuit(num_neurons)\n",
        "    weight_layers = []\n",
        "\n",
        "    for layer in range(num_layers):\n",
        "        layer_circuit, weights = create_quantum_layer(num_neurons)\n",
        "        full_circuit.compose(layer_circuit, inplace=True)\n",
        "        weight_layers.extend(weights)\n",
        "\n",
        "    full_circuit.measure_all()\n",
        "\n",
        "    return full_circuit, weight_layers"
      ],
      "metadata": {
        "id": "qEkdXWwou_AX"
      },
      "execution_count": null,
      "outputs": []
    },
    {
      "cell_type": "code",
      "source": [
        "def cost_function(expected_output, measured_counts, shots):\n",
        "    measured_prob = measured_counts.get(expected_output, 0) / shots\n",
        "    return (1 - measured_prob)**2"
      ],
      "metadata": {
        "id": "RyRugSA4vBTu"
      },
      "execution_count": null,
      "outputs": []
    },
    {
      "cell_type": "code",
      "source": [
        "def train_network(num_neurons, num_layers, training_data, epochs=50, learning_rate=0.1, shots=1024):\n",
        "    circuit, parameters = create_quantum_neural_network(num_neurons, num_layers)\n",
        "    simulator = Aer.get_backend('qasm_simulator')\n",
        "\n",
        "    weights = {param: np.random.uniform(0, 2 * np.pi) for param in parameters}\n",
        "\n",
        "    cost_history = []\n",
        "\n",
        "    for epoch in range(epochs):\n",
        "        total_cost = 0\n",
        "        for input_data, expected_output in training_data:\n",
        "            bound_circuit = circuit.bind_parameters(weights)\n",
        "            result = execute(bound_circuit, simulator, shots=shots).result()\n",
        "            counts = result.get_counts()\n",
        "\n",
        "            cost = cost_function(expected_output, counts, shots)\n",
        "            total_cost += cost\n",
        "\n",
        "            for param in parameters:\n",
        "                grad = (cost_function(expected_output, counts, shots) - cost) / learning_rate\n",
        "                weights[param] -= learning_rate * grad\n",
        "\n",
        "        avg_cost = total_cost / len(training_data)\n",
        "        cost_history.append(avg_cost)\n",
        "\n",
        "        print(f\"Epoch {epoch + 1}/{epochs}, Cost: {avg_cost:.4f}\")\n",
        "\n",
        "    return weights, cost_history"
      ],
      "metadata": {
        "id": "U-G3xjWpvDpU"
      },
      "execution_count": null,
      "outputs": []
    },
    {
      "cell_type": "code",
      "source": [
        "training_data = [\n",
        "    ('0000', '0010'),\n",
        "    ('1111', '1100'),\n",
        "    ('1010', '0101')\n",
        "]\n",
        "\n",
        "num_neurons = 4\n",
        "num_layers = 3\n",
        "\n",
        "=trained_weights, training_history = train_network(num_neurons, num_layers, training_data)\n",
        "\n",
        "plt.plot(training_history)\n",
        "plt.title(\"Evolução do Custo Durante o Treinamento\")\n",
        "plt.xlabel(\"Épocas\")\n",
        "plt.ylabel(\"Custo\")\n",
        "plt.grid()\n",
        "plt.show()"
      ],
      "metadata": {
        "id": "TIvWyryAvJsf"
      },
      "execution_count": null,
      "outputs": []
    }
  ]
}