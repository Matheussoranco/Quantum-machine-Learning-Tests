{
  "nbformat": 4,
  "nbformat_minor": 0,
  "metadata": {
    "colab": {
      "provenance": []
    },
    "kernelspec": {
      "name": "python3",
      "display_name": "Python 3"
    },
    "language_info": {
      "name": "python"
    }
  },
  "cells": [
    {
      "cell_type": "code",
      "execution_count": null,
      "metadata": {
        "id": "Hhjh8WzVvs9_"
      },
      "outputs": [],
      "source": [
        "pip install keras rdkit-pypi py3dmol"
      ]
    },
    {
      "cell_type": "code",
      "source": [
        "import numpy as np\n",
        "import pandas as pd\n",
        "import tensorflow as tf\n",
        "from tensorflow import keras\n",
        "from keras import layers\n",
        "from rdkit import Chem\n",
        "from rdkit.Chem import AllChem\n",
        "import py3Dmol\n",
        "import matplotlib.pyplot as plt"
      ],
      "metadata": {
        "id": "Ng_iHTatwNfD"
      },
      "execution_count": null,
      "outputs": []
    },
    {
      "cell_type": "code",
      "source": [
        "def visualize_molecule_3d(molecule_smiles):\n",
        "    mol = Chem.MolFromSmiles(molecule_smiles)\n",
        "    mol = Chem.AddHs(mol)\n",
        "    AllChem.EmbedMolecule(mol, AllChem.ETKDG())\n",
        "\n",
        "    block = Chem.MolToMolBlock(mol)\n",
        "    viewer = py3Dmol.view(width=800, height=400)\n",
        "    viewer.addModel(block, \"mol\")\n",
        "    viewer.setStyle({\"stick\": {}})\n",
        "    viewer.zoomTo()\n",
        "    return viewer.show()"
      ],
      "metadata": {
        "id": "OtEgVpKOwR2D"
      },
      "execution_count": null,
      "outputs": []
    },
    {
      "cell_type": "code",
      "source": [
        "def smiles_to_graph(smiles):\n",
        "    mol = Chem.MolFromSmiles(smiles)\n",
        "    n_atoms = mol.GetNumAtoms()\n",
        "    adjacency_matrix = Chem.GetAdjacencyMatrix(mol)\n",
        "    atom_features = [atom.GetAtomicNum() for atom in mol.GetAtoms()]\n",
        "    return adjacency_matrix, atom_features"
      ],
      "metadata": {
        "id": "YLKZ8DPOwYBT"
      },
      "execution_count": null,
      "outputs": []
    },
    {
      "cell_type": "code",
      "source": [
        "def build_mpnn_model(num_atom_features, num_edge_features, message_passing_steps):\n",
        "    atom_input = layers.Input(shape=(num_atom_features,))\n",
        "    edge_input = layers.Input(shape=(None, num_edge_features))\n",
        "    adjacency_input = layers.Input(shape=(None,))\n",
        "\n",
        "    x = atom_input\n",
        "    for step in range(message_passing_steps):\n",
        "        x = layers.Dense(128, activation=\"relu\")(x)\n",
        "        x = layers.BatchNormalization()(x)\n",
        "        x = layers.Dropout(0.2)(x)\n",
        "        x = layers.Add()([x, atom_input])\n",
        "\n",
        "    output = layers.Dense(1, activation=\"linear\")(x)\n",
        "\n",
        "    model = keras.Model(inputs=[atom_input, edge_input, adjacency_input], outputs=output)\n",
        "    model.compile(optimizer=keras.optimizers.Adam(learning_rate=1e-3), loss=\"mean_squared_error\")\n",
        "    return model"
      ],
      "metadata": {
        "id": "RBRwfifkwdkk"
      },
      "execution_count": null,
      "outputs": []
    },
    {
      "cell_type": "code",
      "source": [
        "smiles_list = [\"CCO\", \"CC(=O)OC1=CC=CC=C1C(=O)O\", \"CC1=CC=CC=C1\"]\n",
        "graphs = [smiles_to_graph(s) for s in smiles_list]\n",
        "\n",
        "max_atoms = max([g[1] for g in graphs])\n",
        "atom_features = np.array([np.pad(g[1], (0, max_atoms - len(g[1]))) for g in graphs])\n",
        "adjacency_matrices = np.array([np.pad(g[0], ((0, max_atoms - g[0].shape[0]), (0, max_atoms - g[0].shape[1]))) for g in graphs])\n",
        "edges_dummy = np.zeros((len(smiles_list), max_atoms, max_atoms))\n",
        "\n",
        "mpnn_model = build_mpnn_model(num_atom_features=max_atoms, num_edge_features=1, message_passing_steps=4)\n",
        "history = mpnn_model.fit([atom_features, edges_dummy, adjacency_matrices], np.random.rand(len(smiles_list)), epochs=10, verbose=1)\n",
        "\n",
        "plt.plot(history.history['loss'], label='loss')\n",
        "plt.xlabel('Epochs')\n",
        "plt.ylabel('Loss')\n",
        "plt.legend()\n",
        "plt.title('Treinamento MPNN para moléculas complexas')\n",
        "plt.show()\n",
        "\n",
        "visualize_molecule_3d(\"CC(=O)OC1=CC=CC=C1C(=O)O\")"
      ],
      "metadata": {
        "id": "m14bXuqmwfqV"
      },
      "execution_count": null,
      "outputs": []
    }
  ]
}